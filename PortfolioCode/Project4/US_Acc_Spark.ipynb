{
 "cells": [
  {
   "cell_type": "code",
   "execution_count": 19,
   "id": "dd2a3e51-2f82-422e-8dd4-ccf6ba11ec21",
   "metadata": {},
   "outputs": [],
   "source": [
    "import pyspark.sql as ps"
   ]
  },
  {
   "cell_type": "markdown",
   "id": "f40a17b2-fe16-4c3f-b8af-5682178d3783",
   "metadata": {},
   "source": [
    "Here We set up a spark connection and read csv file from my bucket"
   ]
  },
  {
   "cell_type": "code",
   "execution_count": 20,
   "id": "3ccbcff3-8c3d-4c5b-991f-22ac387893d4",
   "metadata": {},
   "outputs": [],
   "source": [
    "spark = ps.SparkSession.builder \\\n",
    "      .master(\"local[*]\") \\\n",
    "      .appName(\"accidents_example\") \\\n",
    "      .getOrCreate()"
   ]
  },
  {
   "cell_type": "markdown",
   "id": "4dd5e13f-a3eb-4157-99b0-71a3a9616d99",
   "metadata": {},
   "source": [
    "Custom Schema applied to csv file and loaded into big query"
   ]
  },
  {
   "cell_type": "code",
   "execution_count": 26,
   "id": "85defe26-8f00-4b6f-b82e-21b9d62c6782",
   "metadata": {},
   "outputs": [],
   "source": [
    "df = spark.read.format(\"csv\")\\\n",
    ".option(\"delimiter\",\",\") \\\n",
    ".option(\"header\", \"true\") \\\n",
    ".schema(\"ID string, Source string, Severity string, Start_Time Timestamp, End_Time Timestamp, Start_Lat Decimal(10,6), Start_Lng Decimal(10,6), End_Lat Decimal(10,6), End_Lng Decimal(10,6), Distance_mi string, Description string, Street string, City string, County string, State string, Zipcode int, Country string, Timezone string, Airport_Code string, Weather_Timestamp Timestamp, Temperature_F Decimal(10,2), Wind_Chill_F Decimal(10,2), Humidity_percent Decimal(10,2), Pressure_in Decimal(10,2), Visibility_mi Decimal(10,2), Wind_Direction string, Wind_Speed_mph Decimal(10,1), Precipitation_in Decimal(10,2), Weather_Condition string, Amenity string, Bump string, Crossing string, Give_Way string, Junction string, No_Exit string, Railway string, Roundabout string, Station string, Stop string, Traffic_Calming string, Traffic_Signal string, Turning_Loop string, Sunrise_Sunset string, Civil_Twilight string, Nautical_Twilight string, Astronomical_Twilight string\") \\\n",
    ".load(\"US_Accidents_March23.csv\")"
   ]
  },
  {
   "cell_type": "code",
   "execution_count": 29,
   "id": "26e66901-be80-4369-8d50-587706ae4c03",
   "metadata": {
    "collapsed": true,
    "jupyter": {
     "outputs_hidden": true
    }
   },
   "outputs": [
    {
     "name": "stdout",
     "output_type": "stream",
     "text": [
      "root\n",
      " |-- ID: string (nullable = true)\n",
      " |-- Source: string (nullable = true)\n",
      " |-- Severity: string (nullable = true)\n",
      " |-- Start_Time: timestamp (nullable = true)\n",
      " |-- End_Time: timestamp (nullable = true)\n",
      " |-- Start_Lat: decimal(10,6) (nullable = true)\n",
      " |-- Start_Lng: decimal(10,6) (nullable = true)\n",
      " |-- End_Lat: decimal(10,6) (nullable = true)\n",
      " |-- End_Lng: decimal(10,6) (nullable = true)\n",
      " |-- Distance_mi: string (nullable = true)\n",
      " |-- Description: string (nullable = true)\n",
      " |-- Street: string (nullable = true)\n",
      " |-- City: string (nullable = true)\n",
      " |-- County: string (nullable = true)\n",
      " |-- State: string (nullable = true)\n",
      " |-- Zipcode: integer (nullable = true)\n",
      " |-- Country: string (nullable = true)\n",
      " |-- Timezone: string (nullable = true)\n",
      " |-- Airport_Code: string (nullable = true)\n",
      " |-- Weather_Timestamp: timestamp (nullable = true)\n",
      " |-- Temperature_F: decimal(10,2) (nullable = true)\n",
      " |-- Wind_Chill_F: decimal(10,2) (nullable = true)\n",
      " |-- Humidity_percent: decimal(10,2) (nullable = true)\n",
      " |-- Pressure_in: decimal(10,2) (nullable = true)\n",
      " |-- Visibility_mi: decimal(10,2) (nullable = true)\n",
      " |-- Wind_Direction: string (nullable = true)\n",
      " |-- Wind_Speed_mph: decimal(10,1) (nullable = true)\n",
      " |-- Precipitation_in: decimal(10,2) (nullable = true)\n",
      " |-- Weather_Condition: string (nullable = true)\n",
      " |-- Amenity: string (nullable = true)\n",
      " |-- Bump: string (nullable = true)\n",
      " |-- Crossing: string (nullable = true)\n",
      " |-- Give_Way: string (nullable = true)\n",
      " |-- Junction: string (nullable = true)\n",
      " |-- No_Exit: string (nullable = true)\n",
      " |-- Railway: string (nullable = true)\n",
      " |-- Roundabout: string (nullable = true)\n",
      " |-- Station: string (nullable = true)\n",
      " |-- Stop: string (nullable = true)\n",
      " |-- Traffic_Calming: string (nullable = true)\n",
      " |-- Traffic_Signal: string (nullable = true)\n",
      " |-- Turning_Loop: string (nullable = true)\n",
      " |-- Sunrise_Sunset: string (nullable = true)\n",
      " |-- Civil_Twilight: string (nullable = true)\n",
      " |-- Nautical_Twilight: string (nullable = true)\n",
      " |-- Astronomical_Twilight: string (nullable = true)\n",
      "\n"
     ]
    }
   ],
   "source": [
    "df.printSchema()"
   ]
  },
  {
   "cell_type": "code",
   "execution_count": 8,
   "id": "3261413a-58b5-4f18-8f18-1183f5275683",
   "metadata": {},
   "outputs": [],
   "source": [
    "schema_line = \", \".join([f\"{col_name} {col_type}\" for col_name, col_type in df.dtypes])\n"
   ]
  },
  {
   "cell_type": "markdown",
   "id": "396eece0-d787-4610-8a0a-3c91e4c01154",
   "metadata": {},
   "source": [
    "schema_line"
   ]
  },
  {
   "cell_type": "markdown",
   "id": "9e39ec80-2a20-4c58-b420-839729cef2d5",
   "metadata": {},
   "source": [
    "# Write TO Bucket\n"
   ]
  },
  {
   "cell_type": "code",
   "execution_count": 32,
   "id": "0df8d7ba-207a-4368-9496-16521e03b681",
   "metadata": {},
   "outputs": [],
   "source": [
    "bucket = \"nicholasphom-dekart-portfolio\"\n",
    "spark.conf.set('temporaryGcsBucket', bucket)"
   ]
  },
  {
   "cell_type": "code",
   "execution_count": 33,
   "id": "35cb353a-7ea8-4d66-9e07-70b0754402ca",
   "metadata": {},
   "outputs": [
    {
     "name": "stderr",
     "output_type": "stream",
     "text": [
      "                                                                                \r"
     ]
    }
   ],
   "source": [
    "df.write.format('bigquery') \\\n",
    "  .option('table', 'portfolio-400311.portfolio.traffic_accedents') \\\n",
    "  .save()"
   ]
  }
 ],
 "metadata": {
  "kernelspec": {
   "display_name": "test on Serverless Spark (Remote)",
   "language": "python",
   "name": "9c39b79e5d2e7072beb4bd59-runtime-000009183204"
  },
  "language_info": {
   "codemirror_mode": {
    "name": "ipython",
    "version": 3
   },
   "file_extension": ".py",
   "mimetype": "text/x-python",
   "name": "python",
   "nbconvert_exporter": "python",
   "pygments_lexer": "ipython3",
   "version": "3.11.0"
  }
 },
 "nbformat": 4,
 "nbformat_minor": 5
}
